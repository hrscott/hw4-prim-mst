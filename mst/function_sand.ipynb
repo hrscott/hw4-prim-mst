{
 "cells": [
  {
   "cell_type": "code",
   "execution_count": 37,
   "metadata": {},
   "outputs": [],
   "source": [
    "os.getcwd()\n",
    "sys.path.append('../')\n",
    "from  mst import Graph"
   ]
  },
  {
   "cell_type": "code",
   "execution_count": 38,
   "metadata": {},
   "outputs": [],
   "source": [
    "import os\n",
    "import sys\n",
    "import numpy as np\n",
    "import heapq\n",
    "from typing import Union\n",
    "import networkx as nx"
   ]
  },
  {
   "cell_type": "code",
   "execution_count": 39,
   "metadata": {},
   "outputs": [
    {
     "name": "stdout",
     "output_type": "stream",
     "text": [
      "[[0. 2. 0. 6. 0.]\n",
      " [2. 0. 3. 0. 5.]\n",
      " [0. 3. 0. 0. 0.]\n",
      " [6. 0. 0. 0. 0.]\n",
      " [0. 5. 0. 0. 0.]]\n"
     ]
    }
   ],
   "source": [
    "import numpy as np\n",
    "\n",
    "# Create a 2D numpy array to represent the adjacency matrix of the graph\n",
    "adjacency_mat = np.array([[0, 2, 0, 6, 0], [2, 0, 3, 8, 5], [0, 3, 0, 0, 7], [6, 8, 0, 0, 9], [0, 5, 7, 9, 0]])\n",
    "\n",
    "# Create an instance of the Graph class with the adjacency matrix\n",
    "graph = Graph(adjacency_mat)\n",
    "\n",
    "# Construct the minimum spanning tree of the graph\n",
    "graph.construct_mst()\n",
    "\n",
    "# Access the minimum spanning tree\n",
    "print(graph.mst)\n",
    "# Output:\n",
    "# [[0. 2. 0. 0. 0.]\n",
    "#  [2. 0. 3. 0. 0.]\n",
    "#  [0. 3. 0. 0. 0.]\n",
    "#  [0. 0. 0. 0. 9.]\n",
    "#  [0. 0. 0. 9. 0.]]"
   ]
  }
 ],
 "metadata": {
  "kernelspec": {
   "display_name": "Python 3",
   "language": "python",
   "name": "python3"
  },
  "language_info": {
   "codemirror_mode": {
    "name": "ipython",
    "version": 3
   },
   "file_extension": ".py",
   "mimetype": "text/x-python",
   "name": "python",
   "nbconvert_exporter": "python",
   "pygments_lexer": "ipython3",
   "version": "3.11.1"
  },
  "orig_nbformat": 4,
  "vscode": {
   "interpreter": {
    "hash": "5c7b89af1651d0b8571dde13640ecdccf7d5a6204171d6ab33e7c296e100e08a"
   }
  }
 },
 "nbformat": 4,
 "nbformat_minor": 2
}
