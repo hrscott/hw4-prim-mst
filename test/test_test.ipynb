{
 "cells": [
  {
   "cell_type": "code",
   "execution_count": 4,
   "metadata": {},
   "outputs": [
    {
     "data": {
      "text/plain": [
       "'/Users/henryrscott/Desktop/Algos/HW4/hw4-prim-mst/test'"
      ]
     },
     "execution_count": 4,
     "metadata": {},
     "output_type": "execute_result"
    }
   ],
   "source": [
    "import sys\n",
    "import os\n",
    "os.getcwd() "
   ]
  },
  {
   "cell_type": "code",
   "execution_count": 7,
   "metadata": {},
   "outputs": [],
   "source": [
    "sys.path.append('../')\n",
    "import mst"
   ]
  },
  {
   "cell_type": "code",
   "execution_count": null,
   "metadata": {},
   "outputs": [],
   "source": [
    "def acuracy_test():\n",
    "    adj_mat = np.array([[0, 3, 1, 0],\n",
    "                        [3, 0, 2, 5],\n",
    "                        [1, 2, 0, 4],\n",
    "                        [0, 5, 4, 0]])\n",
    "    expected_weight = 7  # Sum of the edge weights in the minimum spanning tree\n",
    "    graph = Graph(adj_mat)\n",
    "    graph.prims()\n",
    "    mst = graph.mst\n",
    "    allowed_error = 0.0\n",
    "\n",
    "    def check_mst(adj_mat: np.ndarray, \n",
    "                mst: np.ndarray, \n",
    "                expected_weight: int, \n",
    "                allowed_error: float = 0.0001):\n",
    "        \n",
    "        check_mst(adj_mat, mst, expected_weight, allowed_error)"
   ]
  }
 ],
 "metadata": {
  "kernelspec": {
   "display_name": "Python 3",
   "language": "python",
   "name": "python3"
  },
  "language_info": {
   "codemirror_mode": {
    "name": "ipython",
    "version": 3
   },
   "file_extension": ".py",
   "mimetype": "text/x-python",
   "name": "python",
   "nbconvert_exporter": "python",
   "pygments_lexer": "ipython3",
   "version": "3.11.1"
  },
  "orig_nbformat": 4,
  "vscode": {
   "interpreter": {
    "hash": "5c7b89af1651d0b8571dde13640ecdccf7d5a6204171d6ab33e7c296e100e08a"
   }
  }
 },
 "nbformat": 4,
 "nbformat_minor": 2
}
